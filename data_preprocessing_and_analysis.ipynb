{
 "cells": [
  {
   "cell_type": "code",
   "execution_count": 20,
   "id": "f1db3bfe",
   "metadata": {},
   "outputs": [],
   "source": [
    "import pandas as pd\n",
    "import os\n",
    "import ast\n",
    "import re"
   ]
  },
  {
   "cell_type": "code",
   "execution_count": 21,
   "id": "6de5b374",
   "metadata": {},
   "outputs": [],
   "source": [
    "raw_data_path = os.path.join(os.getcwd(),\"dataset\",\"raw_quotes_data.csv\")\n",
    "data = pd.read_csv(raw_data_path)"
   ]
  },
  {
   "cell_type": "code",
   "execution_count": 22,
   "id": "614e030d",
   "metadata": {},
   "outputs": [
    {
     "data": {
      "text/html": [
       "<div>\n",
       "<style scoped>\n",
       "    .dataframe tbody tr th:only-of-type {\n",
       "        vertical-align: middle;\n",
       "    }\n",
       "\n",
       "    .dataframe tbody tr th {\n",
       "        vertical-align: top;\n",
       "    }\n",
       "\n",
       "    .dataframe thead th {\n",
       "        text-align: right;\n",
       "    }\n",
       "</style>\n",
       "<table border=\"1\" class=\"dataframe\">\n",
       "  <thead>\n",
       "    <tr style=\"text-align: right;\">\n",
       "      <th></th>\n",
       "      <th>quote</th>\n",
       "      <th>author</th>\n",
       "      <th>tags</th>\n",
       "    </tr>\n",
       "  </thead>\n",
       "  <tbody>\n",
       "    <tr>\n",
       "      <th>0</th>\n",
       "      <td>“Be yourself; everyone else is already taken.”</td>\n",
       "      <td>Oscar Wilde</td>\n",
       "      <td>['be-yourself', 'gilbert-perreira', 'honesty',...</td>\n",
       "    </tr>\n",
       "    <tr>\n",
       "      <th>1</th>\n",
       "      <td>“I'm selfish, impatient and a little insecure....</td>\n",
       "      <td>Marilyn Monroe</td>\n",
       "      <td>['best', 'life', 'love', 'mistakes', 'out-of-c...</td>\n",
       "    </tr>\n",
       "    <tr>\n",
       "      <th>2</th>\n",
       "      <td>“Two things are infinite: the universe and hum...</td>\n",
       "      <td>Albert Einstein</td>\n",
       "      <td>['human-nature', 'humor', 'infinity', 'philoso...</td>\n",
       "    </tr>\n",
       "    <tr>\n",
       "      <th>3</th>\n",
       "      <td>“So many books, so little time.”</td>\n",
       "      <td>Frank Zappa</td>\n",
       "      <td>['books', 'humor']</td>\n",
       "    </tr>\n",
       "    <tr>\n",
       "      <th>4</th>\n",
       "      <td>“A room without books is like a body without a...</td>\n",
       "      <td>Marcus Tullius Cicero</td>\n",
       "      <td>['books', 'simile', 'soul']</td>\n",
       "    </tr>\n",
       "  </tbody>\n",
       "</table>\n",
       "</div>"
      ],
      "text/plain": [
       "                                               quote                 author  \\\n",
       "0     “Be yourself; everyone else is already taken.”            Oscar Wilde   \n",
       "1  “I'm selfish, impatient and a little insecure....         Marilyn Monroe   \n",
       "2  “Two things are infinite: the universe and hum...        Albert Einstein   \n",
       "3                   “So many books, so little time.”            Frank Zappa   \n",
       "4  “A room without books is like a body without a...  Marcus Tullius Cicero   \n",
       "\n",
       "                                                tags  \n",
       "0  ['be-yourself', 'gilbert-perreira', 'honesty',...  \n",
       "1  ['best', 'life', 'love', 'mistakes', 'out-of-c...  \n",
       "2  ['human-nature', 'humor', 'infinity', 'philoso...  \n",
       "3                                 ['books', 'humor']  \n",
       "4                        ['books', 'simile', 'soul']  "
      ]
     },
     "execution_count": 22,
     "metadata": {},
     "output_type": "execute_result"
    }
   ],
   "source": [
    "data.head()"
   ]
  },
  {
   "cell_type": "code",
   "execution_count": 23,
   "id": "e2251807",
   "metadata": {},
   "outputs": [
    {
     "data": {
      "text/plain": [
       "(2508, 3)"
      ]
     },
     "execution_count": 23,
     "metadata": {},
     "output_type": "execute_result"
    }
   ],
   "source": [
    "data.shape"
   ]
  },
  {
   "cell_type": "code",
   "execution_count": 24,
   "id": "5660b2a7",
   "metadata": {},
   "outputs": [
    {
     "data": {
      "text/plain": [
       "880"
      ]
     },
     "execution_count": 24,
     "metadata": {},
     "output_type": "execute_result"
    }
   ],
   "source": [
    "len(data[\"author\"].unique())"
   ]
  },
  {
   "cell_type": "markdown",
   "id": "b433cc9f",
   "metadata": {},
   "source": [
    "* We have quotes of 880 different authors"
   ]
  },
  {
   "cell_type": "code",
   "execution_count": 25,
   "id": "71563141",
   "metadata": {},
   "outputs": [
    {
     "name": "stdout",
     "output_type": "stream",
     "text": [
      "<class 'pandas.core.frame.DataFrame'>\n",
      "RangeIndex: 2508 entries, 0 to 2507\n",
      "Data columns (total 3 columns):\n",
      " #   Column  Non-Null Count  Dtype \n",
      "---  ------  --------------  ----- \n",
      " 0   quote   2508 non-null   object\n",
      " 1   author  2508 non-null   object\n",
      " 2   tags    2508 non-null   object\n",
      "dtypes: object(3)\n",
      "memory usage: 58.9+ KB\n"
     ]
    }
   ],
   "source": [
    "data.info()"
   ]
  },
  {
   "cell_type": "code",
   "execution_count": 26,
   "id": "94bc63af",
   "metadata": {},
   "outputs": [
    {
     "data": {
      "text/html": [
       "<div>\n",
       "<style scoped>\n",
       "    .dataframe tbody tr th:only-of-type {\n",
       "        vertical-align: middle;\n",
       "    }\n",
       "\n",
       "    .dataframe tbody tr th {\n",
       "        vertical-align: top;\n",
       "    }\n",
       "\n",
       "    .dataframe thead th {\n",
       "        text-align: right;\n",
       "    }\n",
       "</style>\n",
       "<table border=\"1\" class=\"dataframe\">\n",
       "  <thead>\n",
       "    <tr style=\"text-align: right;\">\n",
       "      <th></th>\n",
       "      <th>quote</th>\n",
       "      <th>author</th>\n",
       "      <th>tags</th>\n",
       "    </tr>\n",
       "  </thead>\n",
       "  <tbody>\n",
       "  </tbody>\n",
       "</table>\n",
       "</div>"
      ],
      "text/plain": [
       "Empty DataFrame\n",
       "Columns: [quote, author, tags]\n",
       "Index: []"
      ]
     },
     "execution_count": 26,
     "metadata": {},
     "output_type": "execute_result"
    }
   ],
   "source": [
    "data[data.duplicated()]"
   ]
  },
  {
   "cell_type": "markdown",
   "id": "2ceeee9c",
   "metadata": {},
   "source": [
    "* No duplicate values in dataset"
   ]
  },
  {
   "cell_type": "code",
   "execution_count": 27,
   "id": "f2c4df98",
   "metadata": {},
   "outputs": [
    {
     "data": {
      "text/plain": [
       "quote     0\n",
       "author    0\n",
       "tags      0\n",
       "dtype: int64"
      ]
     },
     "execution_count": 27,
     "metadata": {},
     "output_type": "execute_result"
    }
   ],
   "source": [
    "data.isna().sum()"
   ]
  },
  {
   "cell_type": "markdown",
   "id": "698bfd5f",
   "metadata": {},
   "source": [
    "* No missing values"
   ]
  },
  {
   "cell_type": "code",
   "execution_count": 28,
   "id": "f4c4a118",
   "metadata": {},
   "outputs": [
    {
     "name": "stdout",
     "output_type": "stream",
     "text": [
      "<class 'str'>\n"
     ]
    }
   ],
   "source": [
    "for i in data[\"tags\"]:\n",
    "    print(type(i))\n",
    "    break"
   ]
  },
  {
   "cell_type": "code",
   "execution_count": 29,
   "id": "970fc6f3",
   "metadata": {},
   "outputs": [],
   "source": [
    "data[\"tags\"] = data[\"tags\"].apply(ast.literal_eval)"
   ]
  },
  {
   "cell_type": "code",
   "execution_count": 30,
   "id": "a8aaf617",
   "metadata": {},
   "outputs": [
    {
     "name": "stdout",
     "output_type": "stream",
     "text": [
      "<class 'list'>\n"
     ]
    }
   ],
   "source": [
    "for i in data[\"tags\"]:\n",
    "    print(type(i))\n",
    "    break"
   ]
  },
  {
   "cell_type": "code",
   "execution_count": 31,
   "id": "7c49f2eb",
   "metadata": {},
   "outputs": [
    {
     "name": "stdout",
     "output_type": "stream",
     "text": [
      "[]\n",
      "[]\n",
      "[]\n",
      "[]\n",
      "[]\n",
      "[]\n",
      "[]\n",
      "[]\n",
      "[]\n"
     ]
    }
   ],
   "source": [
    "for i in data[\"tags\"]:\n",
    "    if len(i) == 0:\n",
    "        print(i)"
   ]
  },
  {
   "cell_type": "markdown",
   "id": "162b59a8",
   "metadata": {},
   "source": [
    "* We have 9 quotes with no tags"
   ]
  },
  {
   "cell_type": "code",
   "execution_count": 32,
   "id": "433ac966",
   "metadata": {},
   "outputs": [],
   "source": [
    "## Some Preprocessing to avoid any unknown errors\n",
    "\n",
    "data['quote'] = data['quote'].fillna('')\n",
    "data['author'] = data['author'].fillna('Unknown')\n",
    "data['tags'] = data['tags'].apply(lambda x: x if isinstance(x, list) else [])\n",
    "data['quote'] = data['quote'].str.lower().str.strip()\n",
    "data['author'] = data['author'].str.lower().str.strip()\n",
    "data = data.drop_duplicates(subset=['quote', 'author'])"
   ]
  },
  {
   "cell_type": "code",
   "execution_count": 33,
   "id": "659f8436",
   "metadata": {},
   "outputs": [
    {
     "data": {
      "text/html": [
       "<div>\n",
       "<style scoped>\n",
       "    .dataframe tbody tr th:only-of-type {\n",
       "        vertical-align: middle;\n",
       "    }\n",
       "\n",
       "    .dataframe tbody tr th {\n",
       "        vertical-align: top;\n",
       "    }\n",
       "\n",
       "    .dataframe thead th {\n",
       "        text-align: right;\n",
       "    }\n",
       "</style>\n",
       "<table border=\"1\" class=\"dataframe\">\n",
       "  <thead>\n",
       "    <tr style=\"text-align: right;\">\n",
       "      <th></th>\n",
       "      <th>quote</th>\n",
       "      <th>author</th>\n",
       "      <th>tags</th>\n",
       "    </tr>\n",
       "  </thead>\n",
       "  <tbody>\n",
       "  </tbody>\n",
       "</table>\n",
       "</div>"
      ],
      "text/plain": [
       "Empty DataFrame\n",
       "Columns: [quote, author, tags]\n",
       "Index: []"
      ]
     },
     "execution_count": 33,
     "metadata": {},
     "output_type": "execute_result"
    }
   ],
   "source": [
    "data[data[\"quote\"] == \"\"]"
   ]
  },
  {
   "cell_type": "code",
   "execution_count": 34,
   "id": "26119915",
   "metadata": {},
   "outputs": [
    {
     "data": {
      "text/html": [
       "<div>\n",
       "<style scoped>\n",
       "    .dataframe tbody tr th:only-of-type {\n",
       "        vertical-align: middle;\n",
       "    }\n",
       "\n",
       "    .dataframe tbody tr th {\n",
       "        vertical-align: top;\n",
       "    }\n",
       "\n",
       "    .dataframe thead th {\n",
       "        text-align: right;\n",
       "    }\n",
       "</style>\n",
       "<table border=\"1\" class=\"dataframe\">\n",
       "  <thead>\n",
       "    <tr style=\"text-align: right;\">\n",
       "      <th></th>\n",
       "      <th>quote</th>\n",
       "      <th>author</th>\n",
       "      <th>tags</th>\n",
       "    </tr>\n",
       "  </thead>\n",
       "  <tbody>\n",
       "  </tbody>\n",
       "</table>\n",
       "</div>"
      ],
      "text/plain": [
       "Empty DataFrame\n",
       "Columns: [quote, author, tags]\n",
       "Index: []"
      ]
     },
     "execution_count": 34,
     "metadata": {},
     "output_type": "execute_result"
    }
   ],
   "source": [
    "data[data[\"author\"] == \"Unknown\"]"
   ]
  },
  {
   "cell_type": "code",
   "execution_count": 35,
   "id": "12ef9266",
   "metadata": {},
   "outputs": [],
   "source": [
    "def clean_text(text):\n",
    "    return re.sub(r'[^a-zA-Z0-9\\s]', '', text).strip()"
   ]
  },
  {
   "cell_type": "code",
   "execution_count": 36,
   "id": "5f8b45fd",
   "metadata": {},
   "outputs": [],
   "source": [
    "def clean_tags(tags_str):\n",
    "    try:\n",
    "        tags_list = ast.literal_eval(tags_str)\n",
    "        cleaned_tags = [re.sub(r'[^a-zA-Z0-9\\s]', '', tag).strip() for tag in tags_list]\n",
    "        return [tag for tag in cleaned_tags if tag]  \n",
    "    except:\n",
    "        return []"
   ]
  },
  {
   "cell_type": "code",
   "execution_count": 37,
   "id": "52de904f",
   "metadata": {},
   "outputs": [],
   "source": [
    "data['quote'] = data['quote'].astype(str).apply(clean_text)\n",
    "data['author'] = data['author'].astype(str).apply(clean_text)\n",
    "data['tags'] = data['tags'].astype(str).apply(clean_tags)"
   ]
  },
  {
   "cell_type": "code",
   "execution_count": 39,
   "id": "6d553da8",
   "metadata": {},
   "outputs": [
    {
     "data": {
      "text/html": [
       "<div>\n",
       "<style scoped>\n",
       "    .dataframe tbody tr th:only-of-type {\n",
       "        vertical-align: middle;\n",
       "    }\n",
       "\n",
       "    .dataframe tbody tr th {\n",
       "        vertical-align: top;\n",
       "    }\n",
       "\n",
       "    .dataframe thead th {\n",
       "        text-align: right;\n",
       "    }\n",
       "</style>\n",
       "<table border=\"1\" class=\"dataframe\">\n",
       "  <thead>\n",
       "    <tr style=\"text-align: right;\">\n",
       "      <th></th>\n",
       "      <th>quote</th>\n",
       "      <th>author</th>\n",
       "      <th>tags</th>\n",
       "    </tr>\n",
       "  </thead>\n",
       "  <tbody>\n",
       "    <tr>\n",
       "      <th>0</th>\n",
       "      <td>be yourself everyone else is already taken</td>\n",
       "      <td>oscar wilde</td>\n",
       "      <td>[beyourself, gilbertperreira, honesty, inspira...</td>\n",
       "    </tr>\n",
       "    <tr>\n",
       "      <th>1</th>\n",
       "      <td>im selfish impatient and a little insecure i m...</td>\n",
       "      <td>marilyn monroe</td>\n",
       "      <td>[best, life, love, mistakes, outofcontrol, tru...</td>\n",
       "    </tr>\n",
       "    <tr>\n",
       "      <th>2</th>\n",
       "      <td>two things are infinite the universe and human...</td>\n",
       "      <td>albert einstein</td>\n",
       "      <td>[humannature, humor, infinity, philosophy, sci...</td>\n",
       "    </tr>\n",
       "    <tr>\n",
       "      <th>3</th>\n",
       "      <td>so many books so little time</td>\n",
       "      <td>frank zappa</td>\n",
       "      <td>[books, humor]</td>\n",
       "    </tr>\n",
       "    <tr>\n",
       "      <th>4</th>\n",
       "      <td>a room without books is like a body without a ...</td>\n",
       "      <td>marcus tullius cicero</td>\n",
       "      <td>[books, simile, soul]</td>\n",
       "    </tr>\n",
       "    <tr>\n",
       "      <th>...</th>\n",
       "      <td>...</td>\n",
       "      <td>...</td>\n",
       "      <td>...</td>\n",
       "    </tr>\n",
       "    <tr>\n",
       "      <th>2503</th>\n",
       "      <td>morality is simply the attitude we adopt towar...</td>\n",
       "      <td>oscar wilde</td>\n",
       "      <td>[morality, philosophy]</td>\n",
       "    </tr>\n",
       "    <tr>\n",
       "      <th>2504</th>\n",
       "      <td>dont aim at success the more you aim at it and...</td>\n",
       "      <td>viktor e frankl</td>\n",
       "      <td>[happiness, success]</td>\n",
       "    </tr>\n",
       "    <tr>\n",
       "      <th>2505</th>\n",
       "      <td>in life finding a voice is speaking and living...</td>\n",
       "      <td>john grisham</td>\n",
       "      <td>[inspirationallife]</td>\n",
       "    </tr>\n",
       "    <tr>\n",
       "      <th>2506</th>\n",
       "      <td>winter is the time for comfort for good food a...</td>\n",
       "      <td>edith sitwell</td>\n",
       "      <td>[comfort, home, winter]</td>\n",
       "    </tr>\n",
       "    <tr>\n",
       "      <th>2507</th>\n",
       "      <td>silence is so freaking loud</td>\n",
       "      <td>sarah dessen</td>\n",
       "      <td>[justlisten, loud, owen, saradessen, silence]</td>\n",
       "    </tr>\n",
       "  </tbody>\n",
       "</table>\n",
       "<p>2508 rows × 3 columns</p>\n",
       "</div>"
      ],
      "text/plain": [
       "                                                  quote  \\\n",
       "0            be yourself everyone else is already taken   \n",
       "1     im selfish impatient and a little insecure i m...   \n",
       "2     two things are infinite the universe and human...   \n",
       "3                          so many books so little time   \n",
       "4     a room without books is like a body without a ...   \n",
       "...                                                 ...   \n",
       "2503  morality is simply the attitude we adopt towar...   \n",
       "2504  dont aim at success the more you aim at it and...   \n",
       "2505  in life finding a voice is speaking and living...   \n",
       "2506  winter is the time for comfort for good food a...   \n",
       "2507                        silence is so freaking loud   \n",
       "\n",
       "                     author                                               tags  \n",
       "0               oscar wilde  [beyourself, gilbertperreira, honesty, inspira...  \n",
       "1            marilyn monroe  [best, life, love, mistakes, outofcontrol, tru...  \n",
       "2           albert einstein  [humannature, humor, infinity, philosophy, sci...  \n",
       "3               frank zappa                                     [books, humor]  \n",
       "4     marcus tullius cicero                              [books, simile, soul]  \n",
       "...                     ...                                                ...  \n",
       "2503            oscar wilde                             [morality, philosophy]  \n",
       "2504        viktor e frankl                               [happiness, success]  \n",
       "2505           john grisham                                [inspirationallife]  \n",
       "2506          edith sitwell                            [comfort, home, winter]  \n",
       "2507           sarah dessen      [justlisten, loud, owen, saradessen, silence]  \n",
       "\n",
       "[2508 rows x 3 columns]"
      ]
     },
     "execution_count": 39,
     "metadata": {},
     "output_type": "execute_result"
    }
   ],
   "source": [
    "data"
   ]
  },
  {
   "cell_type": "code",
   "execution_count": 38,
   "id": "8592e2b5",
   "metadata": {},
   "outputs": [],
   "source": [
    "processed_dataset_path = os.path.join(os.getcwd(),'dataset','processed_quotes_data_1.csv')\n",
    "data.to_csv(processed_dataset_path, index=False)"
   ]
  }
 ],
 "metadata": {
  "kernelspec": {
   "display_name": "Python 3",
   "language": "python",
   "name": "python3"
  },
  "language_info": {
   "codemirror_mode": {
    "name": "ipython",
    "version": 3
   },
   "file_extension": ".py",
   "mimetype": "text/x-python",
   "name": "python",
   "nbconvert_exporter": "python",
   "pygments_lexer": "ipython3",
   "version": "3.10.0"
  }
 },
 "nbformat": 4,
 "nbformat_minor": 5
}
